{
  "nbformat": 4,
  "nbformat_minor": 0,
  "metadata": {
    "colab": {
      "provenance": []
    },
    "kernelspec": {
      "name": "python3",
      "display_name": "Python 3"
    },
    "language_info": {
      "name": "python"
    }
  },
  "cells": [
    {
      "cell_type": "code",
      "source": [
        "import random\n",
        "import math\n",
        "import copy\n",
        "from random import uniform, randint, shuffle, sample\n",
        "\n",
        "import time"
      ],
      "metadata": {
        "id": "KJL9Q3eSgGow"
      },
      "execution_count": 2,
      "outputs": []
    },
    {
      "cell_type": "code",
      "source": [
        "def encoding_population(initial_population):\n",
        "    dict = {\n",
        "        'a' : 0,\n",
        "        'c' : 1,\n",
        "        'g' : 2,\n",
        "        't' : 3\n",
        "    }\n",
        "    l=[]\n",
        "    for i in initial_population:\n",
        "        k=''\n",
        "        for j in i:\n",
        "            k+=str(dict[j])\n",
        "        l.append(k)\n",
        "    return l"
      ],
      "metadata": {
        "id": "zXGSo27EgJtS"
      },
      "execution_count": 3,
      "outputs": []
    },
    {
      "cell_type": "code",
      "source": [
        "def insert_symbol(src_string,inserted_string,pos):\n",
        "    return ''.join(src_string[:pos] + inserted_string + src_string[pos:])\n",
        "# Given set of strings and population size for SCS problem\n",
        "\n",
        "# supersequence_generate(['acg', 'cat', 'gtt','tgc'])\n",
        "def supersequence_generate(set_of_strings):\n",
        "\n",
        "    '''\n",
        "        Make a copy of the set_of_strings parameter for maintaining the original\n",
        "        set\n",
        "    '''\n",
        "    copied_set_of_strings = copy.deepcopy(set_of_strings)\n",
        "    supersequence = ''.join(copied_set_of_strings.pop(random.randint(0,len(set_of_strings)-1)))\n",
        "\n",
        "    for i in range(len(copied_set_of_strings)):\n",
        "        # print(\"i = \",i)\n",
        "        counter = 0\n",
        "        for j in copied_set_of_strings[i]:\n",
        "            inserted_pos = random.randint(counter,len(supersequence))\n",
        "            # print(\"j and counter and supersequence length and inserted index\",j,\" \",counter,\" \",len(supersequence),\" \",inserted_pos)\n",
        "            if inserted_pos == len(supersequence) or j != supersequence[inserted_pos]:\n",
        "                supersequence=insert_symbol(supersequence,j,inserted_pos)\n",
        "            counter = inserted_pos +1\n",
        "            # print(supersequence)\n",
        "\n",
        "    return supersequence\n",
        "def population_generation(pop_size,set_of_strings):\n",
        "    # l=[]\n",
        "    # for i in range(pop_size):\n",
        "    #     l.append(supersequence_generate(set_of_strings))\n",
        "    # return l\n",
        "    population = []\n",
        "\n",
        "    while len(population) < pop_size:\n",
        "        population.append(supersequence_generate(set_of_strings))\n",
        "\n",
        "    # Find the length of the string that appears the most\n",
        "    most_common_length = max(len(string) for string in population)\n",
        "\n",
        "    # Remove strings that do not match the most common length\n",
        "    population = [string for string in population if len(string) == most_common_length]\n",
        "\n",
        "    # Continue generating strings until the length of the container equals the original population size\n",
        "    while len(population) < pop_size:\n",
        "        generated_supersequence = supersequence_generate(set_of_strings)\n",
        "        if(len(generated_supersequence)  == most_common_length):\n",
        "            population.append(generated_supersequence)\n",
        "\n",
        "    return population\n",
        "def initialization(pop_size,set_of_strings):\n",
        "    initial_population =  population_generation(pop_size,set_of_strings)\n",
        "\n",
        "    encoded_population = encoding_population(initial_population)\n",
        "\n",
        "\n",
        "    return encoded_population\n",
        "molecules = []\n",
        "origin=initialization(10,['acg', 'cat', 'gtt','tgc'])\n",
        "for original_string   in origin:\n",
        "    digit_list = [int(digit) for digit in original_string]\n",
        "    molecules.append(digit_list)\n",
        "for mol in molecules :\n",
        "    print(mol)"
      ],
      "metadata": {
        "colab": {
          "base_uri": "https://localhost:8080/"
        },
        "id": "AQ1KU1UlgOSA",
        "outputId": "6b1313f3-acb0-4fc0-aa9e-6cca834894cc"
      },
      "execution_count": 4,
      "outputs": [
        {
          "output_type": "stream",
          "name": "stdout",
          "text": [
            "[3, 0, 1, 2, 1, 1, 2, 2, 0, 3, 3, 3]\n",
            "[2, 3, 0, 1, 1, 2, 1, 0, 3, 2, 3, 3]\n",
            "[1, 2, 3, 0, 0, 1, 3, 2, 3, 2, 3, 1]\n",
            "[1, 0, 2, 1, 0, 3, 3, 2, 3, 3, 2, 1]\n",
            "[0, 2, 1, 3, 2, 3, 3, 2, 1, 0, 1, 3]\n",
            "[2, 3, 0, 1, 3, 1, 0, 2, 3, 3, 2, 1]\n",
            "[0, 2, 1, 2, 1, 3, 3, 3, 0, 2, 3, 1]\n",
            "[3, 2, 3, 1, 0, 3, 0, 2, 1, 1, 3, 2]\n",
            "[0, 1, 0, 3, 2, 3, 3, 2, 1, 1, 2, 3]\n",
            "[0, 1, 3, 2, 1, 2, 0, 3, 3, 2, 1, 3]\n"
          ]
        }
      ]
    },
    {
      "cell_type": "code",
      "execution_count": 5,
      "metadata": {
        "colab": {
          "base_uri": "https://localhost:8080/"
        },
        "id": "3lbp5KQjeduw",
        "outputId": "726efef5-a029-4e85-d243-2d15245181d3"
      },
      "outputs": [
        {
          "output_type": "stream",
          "name": "stdout",
          "text": [
            "Subsequence [0, 0, 3, 2, 1, 0, 0, 1, 0]\n"
          ]
        }
      ],
      "source": [
        "# -*- coding: utf-8 -*-\n",
        "\"\"\"\n",
        "Created on Sun May 24 20:52:55 2020\n",
        "@author: Kivanc\n",
        "\"\"\"\n",
        "#%%\n",
        "\n",
        "\n",
        "\n",
        "a = time.time()\n",
        "distanceMatrix = molecules\n",
        "\n",
        "# distanceMatrix = molecules\n",
        "\n",
        "n = len(distanceMatrix)\n",
        "\n",
        "def calculateDistance(subsequence):\n",
        "    index = subsequence[0]  # Düğümler arası uzaklık hesabı\n",
        "    distance = 0\n",
        "    for nextIndex in subsequence[1:]:\n",
        "        distance += distanceMatrix[index][nextIndex]\n",
        "        index = nextIndex\n",
        "    return distance  # mesafe döndürüldü\n",
        "\n",
        "def swap(sequence, i, j):\n",
        "    temp = sequence[i]  # Düğümler arası yer değiştirme(indis) fonksiyonu\n",
        "    sequence[i] = sequence[j]\n",
        "    sequence[j] = temp\n",
        "\n",
        "def localPhremone(subsequence, a, b):\n",
        "    subsequence = subsequence[0][:]\n",
        "    swap(subsequence, a, b)\n",
        "    return (subsequence, calculateDistance(subsequence))  # subsequence listesi döndürür.\n",
        "\n",
        "def globalPhremone(subsequence, a, b, c):\n",
        "    subsequence = subsequence[0][:]\n",
        "    swap(subsequence, a, b)\n",
        "    swap(subsequence, b, c)\n",
        "    return (subsequence, calculateDistance(subsequence))  # subsequence listesi döndürü\n",
        "\n",
        "while True:\n",
        "    numSubsequences = 10  # Alt dizi sayısı\n",
        "    worstSubsequences = int(0.1 * numSubsequences)  # kötü değerli alt diziler (çok maliyetli)\n",
        "    bestSubsequences = int(0.9 * numSubsequences)  # iyi değerlikli alt diziler (az maliyetli)\n",
        "    alfa = 2  # geçiş metodu için gereken alfa değeri\n",
        "    beta = 2  # geçiş metodu için gereken beta değeri\n",
        "    passMax = 15  # geçiş metodu değişkenleri (increased passMax for higher range)\n",
        "    passMin = 0  # geçiş metodu değişkenleri\n",
        "    transitionProbability = 0\n",
        "    passMethod = alfa * 1 / n * beta * (passMax - passMin)\n",
        "    iterationSize = 100\n",
        "    subsequences = []  # Alt dizi için array(liste)\n",
        "    initPath = list(range(0, n))\n",
        "    for i in range(numSubsequences):\n",
        "        subsequence = sample(initPath, n)\n",
        "        subsequences.append((subsequence, calculateDistance(subsequence)))\n",
        "\n",
        "    subsequences.sort(key=lambda x: x[1])\n",
        "\n",
        "    for iterationIndex in range(iterationSize):\n",
        "        goSubsequence = subsequences[randint(0, bestSubsequences)]\n",
        "        randomSubsequenceIndex = randint(0, passMethod)\n",
        "        if random.random() < transitionProbability:\n",
        "            morePowerfulSubsequence = localPhremone(goSubsequence, randint(0, n-1), randint(0, n-1))\n",
        "            if subsequences[randomSubsequenceIndex][1] > morePowerfulSubsequence[1]:\n",
        "                subsequences[randomSubsequenceIndex] = morePowerfulSubsequence\n",
        "        else:\n",
        "            for i in range(numSubsequences - worstSubsequences, numSubsequences):\n",
        "                subsequences[i] = localPhremone(subsequences[i], randint(0, n-1), randint(0, n-1))\n",
        "            subsequences.sort(key=lambda x: x[1])\n",
        "        lowCostSubsequence = subsequences[0]\n",
        "        effectlyGlobalSubsequence = globalPhremone(\n",
        "            lowCostSubsequence, randint(0, n-1), randint(0, n-1), randint(0, n-1))\n",
        "        if subsequences[0][1] > effectlyGlobalSubsequence[1]:\n",
        "            subsequences[0] = effectlyGlobalSubsequence\n",
        "        subsequences.sort(key=lambda x: x[1])\n",
        "\n",
        "    subsequenceCosts = []\n",
        "    for i in range(len(subsequences[0][0]) - 1):\n",
        "        current_city = subsequences[0][0][i]\n",
        "        next_city = subsequences[0][0][i + 1]\n",
        "        cost = molecules[current_city][next_city]\n",
        "        subsequenceCosts.append(cost)\n",
        "\n",
        "    unique_elements = set(subsequenceCosts)\n",
        "    if set([0, 1, 2, 3]).issubset(unique_elements):\n",
        "        break\n",
        "\n",
        "\n",
        "print(\"Subsequence\", subsequenceCosts)\n"
      ]
    }
  ]
}