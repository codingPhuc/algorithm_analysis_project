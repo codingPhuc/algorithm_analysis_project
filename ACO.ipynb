{
  "cells": [
    {
      "cell_type": "code",
      "execution_count": 2,
      "metadata": {
        "id": "KJL9Q3eSgGow"
      },
      "outputs": [],
      "source": [
        "import random\n",
        "import math\n",
        "import copy\n",
        "import time\n",
        "from random import uniform, randint, shuffle, sample\n",
        "from ACOdependency import encoding_population, insert_symbol, supersequence_generate, population_generation"
      ]
    },
    {
      "cell_type": "code",
      "execution_count": null,
      "metadata": {
        "id": "zXGSo27EgJtS"
      },
      "outputs": [],
      "source": []
    },
    {
      "cell_type": "code",
      "execution_count": 3,
      "metadata": {
        "colab": {
          "base_uri": "https://localhost:8080/"
        },
        "id": "AQ1KU1UlgOSA",
        "outputId": "be24ad18-06cb-429c-972e-419e203d7e71"
      },
      "outputs": [],
      "source": [
        "\n",
        "\n",
        "\n",
        "def initialization(pop_size, set_of_strings):\n",
        "    \"\"\"\n",
        "    Initialize the population for the SCS problem.\n",
        "\n",
        "    Parameters:\n",
        "    - pop_size (int): The size of the population.\n",
        "    - set_of_strings (list): A list of strings to be combined into supersequences.\n",
        "\n",
        "    Returns:\n",
        "    - list: The encoded population for the SCS problem.\n",
        "    \"\"\"\n",
        "    initial_population = population_generation(pop_size, set_of_strings)\n",
        "    encoded_population = encoding_population(initial_population)\n",
        "\n",
        "    return encoded_population\n",
        "\n",
        "\n",
        "molecules = []  # Initialize an empty list for storing encoded subsequences.\n",
        "origin = initialization(10000, ['acg', 'cat', 'gtt', 'tgc'])\n",
        "\n",
        "\n",
        "# Initialize a list of subsequences that are encoded based on the encoding_population function.\n",
        "for original_string in origin:\n",
        "    digit_list = [int(digit) for digit in original_string]\n",
        "    molecules.append(digit_list)\n",
        "flattened_molecules = [item for sublist in molecules for item in sublist]\n",
        "\n",
        "#unique number in the molecules\n",
        "unique_elements = list(set(flattened_molecules))\n",
        "unique_elements.sort()\n"
      ]
    },
    {
      "cell_type": "code",
      "execution_count": 4,
      "metadata": {
        "colab": {
          "base_uri": "https://localhost:8080/"
        },
        "id": "P3DMapQTuTv3",
        "outputId": "244af45e-8764-482f-9cfe-46d058220452"
      },
      "outputs": [
        {
          "name": "stdout",
          "output_type": "stream",
          "text": [
            "SCS [2, 0, 2, 1, 1, 3, 3]\n"
          ]
        }
      ],
      "source": [
        "\"\"\"\n",
        "The Ant Colony Optimization (ACO) algorithm simulates the foraging behavior of ants to find an optimal path.\n",
        "In this algorithm, a predefined number of ants explore possible paths, leaving behind a pheromone trail.\n",
        "The intensity of the pheromone trail is influenced by the number of ants that traverse a particular path.\n",
        "Paths with a higher concentration of pheromones become more attractive to subsequent ants, increasing the likelihood of those paths being chosen as optimal routes.\n",
        "For instance, if multiple ants traverse a path with different distances, the algorithm calculates the total\n",
        "pheromone level on that path, reflecting the cumulative choices of all ants that have moved along it. This collective information guides the algorithm in identifying promising paths for the final solution.\n",
        "Approach to Solve SCS Problem using ACO Algorithm:\n",
        "\n",
        "Step 1: Encode Subsequences\n",
        "- Encode each subsequence as a number (0 to 3), representing different elements.\n",
        "\n",
        "Step 2: Create 2D List\n",
        "- Form a 2D list where each row corresponds to the string value of an encoded subsequence.\n",
        "\n",
        "Step 3: Apply ACO Algorithm\n",
        "- Utilize the Ant Colony Optimization algorithm on the 2D list, treating each row as a node.\n",
        "- Find the most optimal path through these nodes, representing a solution to the SCS problem.\n",
        "\n",
        "Step 4: Translate Optimal Path\n",
        "- Translate the obtained optimal path back into the original sequence of 0 to 3.\n",
        "\n",
        "Step 5: Output Optimal SCS\n",
        "- Construct the most optimal Shortest Common Supersequence (SCS) using the translated path.\n",
        "\"\"\"\n",
        "a = time.time()\n",
        "# FILP the matrix so that it fits the condition that the column number is larger than the row number\n",
        "distance_matrix =list(map(list, zip(*molecules)))\n",
        "# for m in distance_matrix :\n",
        "#     print(m)\n",
        "# print(len(distance_matrix[0]))\n",
        "n = len(distance_matrix)\n",
        "\n",
        "# sumarize the total cost walk by an ant in the given path\n",
        "# ant_path : list<int>\n",
        "def calculate_distance(ant_path: list) -> float:\n",
        "\n",
        "    current_index = ant_path[0]  # Calculation of distance between nodes\n",
        "    distance = 0\n",
        "    for next_index in ant_path[1:]:\n",
        "        # print(current_index)\n",
        "        # print(next_index)\n",
        "        distance += distance_matrix[current_index][next_index]\n",
        "        current_index = next_index\n",
        "    return distance  # Distance returned\n",
        "\n",
        "# swap a given sequence\n",
        "# sequence :list<int>\n",
        "def swap(sequence: list, i: int, j: int) -> None:\n",
        "\n",
        "    temp = sequence[i]  # Node swapping function\n",
        "    sequence[i] = sequence[j]\n",
        "    sequence[j] = temp\n",
        "\n",
        "# update a single path that the ant have walk then return the updated calculate_distance\n",
        "# ant_path :tuple(list<int> , int)\n",
        "def local_pheromone_update(ant_path: tuple, a: int, b: int) -> tuple:\n",
        "\n",
        "    updated_ant_path = ant_path[0][:]\n",
        "    swap(updated_ant_path, a, b)\n",
        "    return (updated_ant_path, calculate_distance(updated_ant_path))  # Return the ant path.\n",
        "# update multiple path that the ant have walk then return the updated calculate_distance\n",
        "# ant_path :tuple(list<int> , int)\n",
        "def global_pheromone_update(ant_path: tuple, a: int, b: int, c: int) -> tuple:\n",
        "    updated_ant_path = ant_path[0][:]\n",
        "    swap(updated_ant_path, a, b)\n",
        "    swap(updated_ant_path, b, c)\n",
        "    return (updated_ant_path, calculate_distance(updated_ant_path))  # Return the ant path.\n",
        "\n",
        "while True:\n",
        "    num_ants = 10  # Number of ants\n",
        "    # worst path or good path or determin by a poprebility if an worst ant have a hige chances of taking a path with low pop while good ant do the oppersite\n",
        "    worst_ants = int(0.1 * num_ants)  # ant that take a worst path\n",
        "\n",
        "    best_ants = int(0.9 * num_ants)  # Good-value ants  , ant that take a good path(less costly)\n",
        "\n",
        "    # alpha and beta are just constance that can  be change to see different result\n",
        "    alpha = 2.0  # Alpha value required for the transition method (float)\n",
        "    beta = 2.0  # Beta value required for the transition method (float)\n",
        "    pass_max = 15  # Transition method variables (increased pass_max for a higher range)\n",
        "    pass_min = 0  # Transition method variables\n",
        "    transition_probability = 0.5  # Float value the poperties in which the ants will transition\n",
        "    pass_method = alpha * 1 / n * beta * (pass_max - pass_min)  # Float value\n",
        "    iteration_size = 100  # How many times the main loop will run\n",
        "    ants = []  # Array (list) for ants\n",
        "    initial_path = list(range(0, n))\n",
        "    for i in range(num_ants):\n",
        "        # Generate the initial path, meaning that it randomly generates path, order in which each row is selected\n",
        "        ant_path = sample(initial_path, n)\n",
        "        # print(ant_path)\n",
        "        ants.append((ant_path, calculate_distance(ant_path)))\n",
        "\n",
        "    # Sort the second element of the structure, i.e., the distance in which the ant will travel\n",
        "    ants.sort(key=lambda x: x[1])\n",
        "    # The main loop in the program\n",
        "    for iteration_index in range(iteration_size):\n",
        "        go_ant = ants[randint(0, best_ants)]  # Movement group to be selected\n",
        "        random_ant_index = randint(0, int(pass_method))  # The next group will be shaped according to the transition method\n",
        "        # The transition probability , the probability in which an ant will choose a path\n",
        "        # the random.random function is an number between [0,1] it decide if the ant sort change it operation\n",
        "        if random.random()  < transition_probability:\n",
        "\n",
        "            more_powerful_ant = local_pheromone_update(go_ant, randint(0, n-1), randint(0, n-1))\n",
        "            if ants[random_ant_index][1] > more_powerful_ant[1]:\n",
        "                ants[random_ant_index] = more_powerful_ant\n",
        "        else:\n",
        "            for i in range(num_ants - worst_ants, num_ants):\n",
        "                ants[i] = local_pheromone_update(ants[i], randint(0, n-1), randint(0, n-1))\n",
        "            ants.sort(key=lambda x: x[1])\n",
        "\n",
        "        # get the ant with the lowest cost ie the path that the ant walk with the lowest cost\n",
        "        low_cost_ant = ants[0]\n",
        "        effectively_global_ant = global_pheromone_update(\n",
        "            low_cost_ant, randint(0, n-1), randint(0, n-1), randint(0, n-1))\n",
        "        # make a goble pheromon udpate so that it can check again if the lowest cost ant that have global_pheromone_update distince is smaller than the ant which does not\n",
        "        if ants[0][1] > effectively_global_ant[1]:\n",
        "            ants[0] = effectively_global_ant\n",
        "        ants.sort(key=lambda x: x[1])\n",
        "    # Variable to store the cost that the ant will take\n",
        "    ant_costs = []\n",
        "    # For loop for adding the cost that the ant will take\n",
        "    for i in range(len(ants[0][0]) - 1):\n",
        "        current_city = ants[0][0][i]\n",
        "        next_city = ants[0][0][i + 1]\n",
        "        cost = molecules[current_city][next_city]\n",
        "        ant_costs.append(cost)\n",
        "    unique_elements = set(ant_costs)\n",
        "    # Condition to break if the ant has taken a path with all encoded variable words in that are contained in the initialization, i.e., ['acg', 'cat', 'gtt','tgc']\n",
        "    if set(unique_elements).issubset(unique_elements):\n",
        "        break\n",
        "\n",
        "print(\"SCS\", ant_costs)\n"
      ]
    },
    {
      "cell_type": "code",
      "execution_count": null,
      "metadata": {
        "id": "wS56-5eevv4p"
      },
      "outputs": [],
      "source": []
    },
    {
      "cell_type": "code",
      "execution_count": null,
      "metadata": {
        "id": "8lCYrxPgyh0t"
      },
      "outputs": [],
      "source": []
    },
    {
      "cell_type": "code",
      "execution_count": null,
      "metadata": {
        "id": "jaG77IC6F9Wq"
      },
      "outputs": [],
      "source": []
    }
  ],
  "metadata": {
    "colab": {
      "provenance": []
    },
    "kernelspec": {
      "display_name": "Python 3",
      "name": "python3"
    },
    "language_info": {
      "codemirror_mode": {
        "name": "ipython",
        "version": 3
      },
      "file_extension": ".py",
      "mimetype": "text/x-python",
      "name": "python",
      "nbconvert_exporter": "python",
      "pygments_lexer": "ipython3",
      "version": "3.11.4"
    }
  },
  "nbformat": 4,
  "nbformat_minor": 0
}
